{
 "cells": [
  {
   "cell_type": "code",
   "execution_count": 1,
   "id": "4c41fcb7",
   "metadata": {},
   "outputs": [
    {
     "name": "stderr",
     "output_type": "stream",
     "text": [
      "Setting default log level to \"WARN\".\n",
      "To adjust logging level use sc.setLogLevel(newLevel). For SparkR, use setLogLevel(newLevel).\n"
     ]
    },
    {
     "name": "stdout",
     "output_type": "stream",
     "text": [
      "24/03/05 15:36:21 WARN NativeCodeLoader: Unable to load native-hadoop library for your platform... using builtin-java classes where applicable\n",
      "24/03/05 15:36:23 WARN Utils: Service 'SparkUI' could not bind on port 4040. Attempting port 4041.\n"
     ]
    }
   ],
   "source": [
    "import pyspark\n",
    "from pyspark.sql import SparkSession\n",
    "\n",
    "spark = SparkSession.builder \\\n",
    "     .master(\"local[*]\") \\\n",
    "     .appName(\"rdd\") \\\n",
    "     .getOrCreate()"
   ]
  },
  {
   "cell_type": "code",
   "execution_count": 2,
   "id": "a13409cc",
   "metadata": {},
   "outputs": [
    {
     "name": "stderr",
     "output_type": "stream",
     "text": [
      "                                                                                \r"
     ]
    }
   ],
   "source": [
    "df_green = spark.read.parquet(\"data/pq/green/*/*\")"
   ]
  },
  {
   "cell_type": "markdown",
   "id": "2aa0b17a-b05d-4fc1-9ad1-cd7fb61867a9",
   "metadata": {},
   "source": [
    "I would like to achieve the following actions with rdd\n",
    "\n",
    "```\n",
    "SELECT \n",
    "    -- Reveneue grouping \n",
    "    PULocationID AS zone,\n",
    "    date_trunc(\"hour\", lpep_pickup_datetime) AS hour, \n",
    "\n",
    "    SUM(total_amount) AS amount,\n",
    "    COUNT(1) AS number_records\n",
    "FROM \n",
    "    green\n",
    "WHERE\n",
    "    lpep_pickup_datetime >= \"2020-01-01 00:00:00\"\n",
    "GROUP BY \n",
    "    zone, hour\n",
    "```"
   ]
  },
  {
   "cell_type": "code",
   "execution_count": 20,
   "id": "2088e1f5",
   "metadata": {},
   "outputs": [],
   "source": [
    "rdd = df_green \\\n",
    "    .select(\"lpep_pickup_datetime\", \"PULocationID\", \"total_amount\") \\\n",
    "    .rdd"
   ]
  },
  {
   "cell_type": "markdown",
   "id": "011afc26-82a8-4f2f-8810-9a97054d74b6",
   "metadata": {},
   "source": [
    "## step 1 filter pickup date begins from 2020-01-01\n",
    "using rdd.filter()"
   ]
  },
  {
   "cell_type": "code",
   "execution_count": 11,
   "id": "05f4d7cf-c5c9-4233-aa8d-e1261213e505",
   "metadata": {},
   "outputs": [],
   "source": [
    "from datetime import datetime"
   ]
  },
  {
   "cell_type": "code",
   "execution_count": 16,
   "id": "11fb1f92-fdcd-4b02-a0fe-997aad0a1cd4",
   "metadata": {},
   "outputs": [],
   "source": [
    "start = datetime(year=2020, month=1, day=1)\n",
    "\n",
    "def filter_outliers(row):\n",
    "    return row.lpep_pickup_datetime >= start"
   ]
  },
  {
   "cell_type": "code",
   "execution_count": 17,
   "id": "d87f511d",
   "metadata": {},
   "outputs": [
    {
     "data": {
      "text/plain": [
       "[Row(lpep_pickup_datetime=datetime.datetime(2020, 1, 23, 13, 10, 15), PULocationID=74, total_amount=44.97)]"
      ]
     },
     "execution_count": 17,
     "metadata": {},
     "output_type": "execute_result"
    }
   ],
   "source": [
    "rdd.filter(filter_outliers).take(1)"
   ]
  },
  {
   "cell_type": "markdown",
   "id": "db0f25ad-c09f-45c9-a6fb-86f3a5f64b54",
   "metadata": {},
   "source": [
    "## step 2 group by \n",
    "using map()"
   ]
  },
  {
   "cell_type": "code",
   "execution_count": 21,
   "id": "72b1681b-3b36-45df-9951-5ac2c11f9c8f",
   "metadata": {},
   "outputs": [],
   "source": [
    "rows = rdd.take(10)\n",
    "row = rows[0]"
   ]
  },
  {
   "cell_type": "code",
   "execution_count": 24,
   "id": "c7a8b232-6448-4a0b-ab10-26401fff9e96",
   "metadata": {},
   "outputs": [
    {
     "data": {
      "text/plain": [
       "datetime.datetime(2020, 1, 23, 13, 10, 15)"
      ]
     },
     "execution_count": 24,
     "metadata": {},
     "output_type": "execute_result"
    }
   ],
   "source": [
    "row.lpep_pickup_datetime"
   ]
  },
  {
   "cell_type": "code",
   "execution_count": 23,
   "id": "de4ac2e3-02d2-4a0a-95fa-82cd1153cc35",
   "metadata": {},
   "outputs": [
    {
     "data": {
      "text/plain": [
       "datetime.datetime(2020, 1, 23, 13, 0)"
      ]
     },
     "execution_count": 23,
     "metadata": {},
     "output_type": "execute_result"
    }
   ],
   "source": [
    "row.lpep_pickup_datetime.replace(minute=0, second=0, microsecond=0)"
   ]
  },
  {
   "cell_type": "code",
   "execution_count": 29,
   "id": "46491946-e903-4908-8e27-7a837384fffb",
   "metadata": {},
   "outputs": [],
   "source": [
    "def prepare_for_grouping(row):\n",
    "    hour = row.lpep_pickup_datetime.replace(minute=0, second=0, microsecond=0)\n",
    "    zone = row.PULocationID\n",
    "    key = (hour, zone)\n",
    "\n",
    "    amount = row.total_amount\n",
    "    count = 1\n",
    "    value = (amount, count)\n",
    "    \n",
    "    return (key, value)"
   ]
  },
  {
   "cell_type": "code",
   "execution_count": 30,
   "id": "d9420fd9-45c9-4fbd-b3c5-8757043342e1",
   "metadata": {},
   "outputs": [
    {
     "data": {
      "text/plain": [
       "[((datetime.datetime(2020, 1, 23, 13, 0), 74), (44.97, 1)),\n",
       " ((datetime.datetime(2020, 1, 20, 15, 0), 67), (33.45, 1)),\n",
       " ((datetime.datetime(2020, 1, 15, 20, 0), 260), (8.3, 1)),\n",
       " ((datetime.datetime(2020, 1, 5, 16, 0), 82), (8.3, 1)),\n",
       " ((datetime.datetime(2020, 1, 29, 19, 0), 166), (12.74, 1))]"
      ]
     },
     "execution_count": 30,
     "metadata": {},
     "output_type": "execute_result"
    }
   ],
   "source": [
    "rdd \\\n",
    "    .filter(filter_outliers) \\\n",
    "    .map(prepare_for_grouping) \\\n",
    "    .take(5)"
   ]
  },
  {
   "cell_type": "markdown",
   "id": "e4ee3705-89eb-46c9-abc5-ca89c9afd05f",
   "metadata": {},
   "source": [
    "then reduce records by keys, like same keys sum the values"
   ]
  },
  {
   "cell_type": "code",
   "execution_count": 31,
   "id": "a0074f9b-2406-4d11-8afd-7fa42f1ffac0",
   "metadata": {},
   "outputs": [],
   "source": [
    "def calculate_revenue(left_value, right_value):\n",
    "    left_amount, left_count = left_value\n",
    "    right_amount, right_count = right_value\n",
    "\n",
    "    output_amount = left_amount + right_amount\n",
    "    output_count = left_count + right_count\n",
    "    \n",
    "    return (output_amount, output_count)"
   ]
  },
  {
   "cell_type": "code",
   "execution_count": 32,
   "id": "515d2ec6-2203-4939-96e8-732ffbce14f4",
   "metadata": {},
   "outputs": [
    {
     "name": "stderr",
     "output_type": "stream",
     "text": [
      "                                                                                \r"
     ]
    },
    {
     "data": {
      "text/plain": [
       "[((datetime.datetime(2020, 1, 23, 13, 0), 74), (1044.0499999999993, 60)),\n",
       " ((datetime.datetime(2020, 1, 20, 15, 0), 67), (79.5, 3)),\n",
       " ((datetime.datetime(2020, 1, 15, 20, 0), 260), (163.90000000000003, 14)),\n",
       " ((datetime.datetime(2020, 1, 5, 16, 0), 82), (500.4700000000002, 33)),\n",
       " ((datetime.datetime(2020, 1, 15, 11, 0), 179), (50.5, 5))]"
      ]
     },
     "execution_count": 32,
     "metadata": {},
     "output_type": "execute_result"
    }
   ],
   "source": [
    "rdd \\\n",
    "    .filter(filter_outliers) \\\n",
    "    .map(prepare_for_grouping) \\\n",
    "    .reduceByKey(calculate_revenue) \\\n",
    "    .take(5)\n",
    "\n",
    "#the output is the composite key (datetime and zone_id) and value（total_revenue, records)"
   ]
  },
  {
   "cell_type": "markdown",
   "id": "b93030de-2ce9-4d63-a2f8-0390c964e1dc",
   "metadata": {},
   "source": [
    "Then unnest the output"
   ]
  },
  {
   "cell_type": "code",
   "execution_count": 33,
   "id": "f6bf4d54-c8c6-4ae6-84a5-bcaa06ab1491",
   "metadata": {},
   "outputs": [],
   "source": [
    "def unwrap(row):\n",
    "    return (row[0][0], row[0][1], row[1][0], row[1][1])"
   ]
  },
  {
   "cell_type": "code",
   "execution_count": 34,
   "id": "a628b807-f5b4-41c1-9d28-d50734f9173d",
   "metadata": {},
   "outputs": [
    {
     "name": "stderr",
     "output_type": "stream",
     "text": [
      "                                                                                \r"
     ]
    },
    {
     "data": {
      "text/plain": [
       "[(datetime.datetime(2020, 1, 23, 13, 0), 74, 1044.0499999999993, 60),\n",
       " (datetime.datetime(2020, 1, 20, 15, 0), 67, 79.5, 3),\n",
       " (datetime.datetime(2020, 1, 15, 20, 0), 260, 163.90000000000003, 14),\n",
       " (datetime.datetime(2020, 1, 5, 16, 0), 82, 500.4700000000002, 33),\n",
       " (datetime.datetime(2020, 1, 15, 11, 0), 179, 50.5, 5)]"
      ]
     },
     "execution_count": 34,
     "metadata": {},
     "output_type": "execute_result"
    }
   ],
   "source": [
    "rdd \\\n",
    "    .filter(filter_outliers) \\\n",
    "    .map(prepare_for_grouping) \\\n",
    "    .reduceByKey(calculate_revenue) \\\n",
    "    .map(unwrap) \\\n",
    "    .take(5)"
   ]
  },
  {
   "cell_type": "code",
   "execution_count": 35,
   "id": "0ed1d5c5-278d-44be-b247-66d55669083c",
   "metadata": {},
   "outputs": [
    {
     "name": "stderr",
     "output_type": "stream",
     "text": [
      "                                                                                \r"
     ]
    },
    {
     "data": {
      "text/plain": [
       "[Row(_1=datetime.datetime(2020, 1, 23, 13, 0), _2=74, _3=1044.0499999999993, _4=60),\n",
       " Row(_1=datetime.datetime(2020, 1, 20, 15, 0), _2=67, _3=79.5, _4=3),\n",
       " Row(_1=datetime.datetime(2020, 1, 15, 20, 0), _2=260, _3=163.90000000000003, _4=14),\n",
       " Row(_1=datetime.datetime(2020, 1, 5, 16, 0), _2=82, _3=500.4700000000002, _4=33),\n",
       " Row(_1=datetime.datetime(2020, 1, 15, 11, 0), _2=179, _3=50.5, _4=5)]"
      ]
     },
     "execution_count": 35,
     "metadata": {},
     "output_type": "execute_result"
    }
   ],
   "source": [
    "## to dataframe\n",
    "\n",
    "rdd \\\n",
    "    .filter(filter_outliers) \\\n",
    "    .map(prepare_for_grouping) \\\n",
    "    .reduceByKey(calculate_revenue) \\\n",
    "    .map(unwrap) \\\n",
    "    .toDF() \\\n",
    "    .take(5)"
   ]
  },
  {
   "cell_type": "markdown",
   "id": "d5e6ab0e-8955-4ed3-b848-c2e2230b5bba",
   "metadata": {},
   "source": [
    "add coloumn name"
   ]
  },
  {
   "cell_type": "code",
   "execution_count": 36,
   "id": "20b990aa-1b9d-4069-9334-c552a519e25e",
   "metadata": {},
   "outputs": [],
   "source": [
    "from collections import namedtuple"
   ]
  },
  {
   "cell_type": "code",
   "execution_count": 39,
   "id": "c0cfc0e7-9b37-4fd4-886c-777a10b10243",
   "metadata": {},
   "outputs": [],
   "source": [
    "RevenueRow = namedtuple(\"RevenueRow\", [\"hour\", \"zone\", \"revenue\", \"count\"])"
   ]
  },
  {
   "cell_type": "code",
   "execution_count": 40,
   "id": "b0a1c94f-ba53-4ace-ab49-216806bb4be6",
   "metadata": {},
   "outputs": [],
   "source": [
    "def unwrap_with_column_name(row):\n",
    "    return RevenueRow(\n",
    "        hour = row[0][0], \n",
    "        zone=row[0][1], \n",
    "        revenue=row[1][0], \n",
    "        count=row[1][1]\n",
    "    )"
   ]
  },
  {
   "cell_type": "code",
   "execution_count": 41,
   "id": "78e92014-d6eb-47f9-8161-c8a585441364",
   "metadata": {},
   "outputs": [
    {
     "name": "stderr",
     "output_type": "stream",
     "text": [
      "                                                                                \r"
     ]
    },
    {
     "data": {
      "text/plain": [
       "[Row(hour=datetime.datetime(2020, 1, 23, 13, 0), zone=74, revenue=1044.0499999999993, count=60),\n",
       " Row(hour=datetime.datetime(2020, 1, 20, 15, 0), zone=67, revenue=79.5, count=3),\n",
       " Row(hour=datetime.datetime(2020, 1, 15, 20, 0), zone=260, revenue=163.90000000000003, count=14),\n",
       " Row(hour=datetime.datetime(2020, 1, 5, 16, 0), zone=82, revenue=500.4700000000002, count=33),\n",
       " Row(hour=datetime.datetime(2020, 1, 15, 11, 0), zone=179, revenue=50.5, count=5)]"
      ]
     },
     "execution_count": 41,
     "metadata": {},
     "output_type": "execute_result"
    }
   ],
   "source": [
    "rdd \\\n",
    "    .filter(filter_outliers) \\\n",
    "    .map(prepare_for_grouping) \\\n",
    "    .reduceByKey(calculate_revenue) \\\n",
    "    .map(unwrap_with_column_name) \\\n",
    "    .toDF() \\\n",
    "    .take(5)"
   ]
  },
  {
   "cell_type": "code",
   "execution_count": 42,
   "id": "8ca78cf2-18f9-40dc-ada6-4d112f5a9638",
   "metadata": {},
   "outputs": [
    {
     "name": "stderr",
     "output_type": "stream",
     "text": [
      "                                                                                \r"
     ]
    }
   ],
   "source": [
    "df_result = rdd \\\n",
    "    .filter(filter_outliers) \\\n",
    "    .map(prepare_for_grouping) \\\n",
    "    .reduceByKey(calculate_revenue) \\\n",
    "    .map(unwrap_with_column_name) \\\n",
    "    .toDF() "
   ]
  },
  {
   "cell_type": "markdown",
   "id": "f113320c-2ccf-42cd-bffa-54be07e89b6a",
   "metadata": {},
   "source": [
    "add schema"
   ]
  },
  {
   "cell_type": "code",
   "execution_count": 43,
   "id": "2ddaf640-e794-4797-b8c2-c748050d6672",
   "metadata": {},
   "outputs": [
    {
     "data": {
      "text/plain": [
       "StructType([StructField('hour', TimestampType(), True), StructField('zone', LongType(), True), StructField('revenue', DoubleType(), True), StructField('count', LongType(), True)])"
      ]
     },
     "execution_count": 43,
     "metadata": {},
     "output_type": "execute_result"
    }
   ],
   "source": [
    "df_result.schema"
   ]
  },
  {
   "cell_type": "code",
   "execution_count": 44,
   "id": "6cd1ce92-4a5e-40c1-9966-33a6a92b7955",
   "metadata": {},
   "outputs": [],
   "source": [
    "from pyspark.sql import types"
   ]
  },
  {
   "cell_type": "code",
   "execution_count": 45,
   "id": "1522a1d5-acd0-41c4-85f0-2be00b9a8234",
   "metadata": {},
   "outputs": [],
   "source": [
    "result_schema = types.StructType([\n",
    "    types.StructField('hour', types.TimestampType(), True), \n",
    "    types.StructField('zone', types.IntegerType(), True), \n",
    "    types.StructField('revenue', types.DoubleType(), True), \n",
    "    types.StructField('count', types.IntegerType(), True)\n",
    "])"
   ]
  },
  {
   "cell_type": "code",
   "execution_count": 46,
   "id": "60dc1ed8-137f-4694-899e-bafb6bdca9e4",
   "metadata": {},
   "outputs": [],
   "source": [
    "df_result = rdd \\\n",
    "    .filter(filter_outliers) \\\n",
    "    .map(prepare_for_grouping) \\\n",
    "    .reduceByKey(calculate_revenue) \\\n",
    "    .map(unwrap_with_column_name) \\\n",
    "    .toDF(result_schema)"
   ]
  },
  {
   "cell_type": "code",
   "execution_count": 47,
   "id": "b510dc99-8260-4dfc-9667-b7d19b24d71b",
   "metadata": {},
   "outputs": [
    {
     "name": "stderr",
     "output_type": "stream",
     "text": [
      "                                                                                \r"
     ]
    },
    {
     "name": "stdout",
     "output_type": "stream",
     "text": [
      "+-------------------+----+------------------+-----+\n",
      "|               hour|zone|           revenue|count|\n",
      "+-------------------+----+------------------+-----+\n",
      "|2020-01-23 13:00:00|  74|1044.0499999999993|   60|\n",
      "|2020-01-20 15:00:00|  67|              79.5|    3|\n",
      "|2020-01-15 20:00:00| 260|163.90000000000003|   14|\n",
      "|2020-01-05 16:00:00|  82| 500.4700000000002|   33|\n",
      "|2020-01-15 11:00:00| 179|              50.5|    5|\n",
      "+-------------------+----+------------------+-----+\n",
      "only showing top 5 rows\n",
      "\n"
     ]
    }
   ],
   "source": [
    "df_result.show(5)"
   ]
  },
  {
   "cell_type": "code",
   "execution_count": 49,
   "id": "192b5b99-72d2-4279-97d1-c729da75f952",
   "metadata": {},
   "outputs": [
    {
     "name": "stderr",
     "output_type": "stream",
     "text": [
      "                                                                                \r"
     ]
    }
   ],
   "source": [
    "df_result.write.parquet(\"data/tmp/green-revenue\")"
   ]
  },
  {
   "cell_type": "code",
   "execution_count": null,
   "id": "7a0983ea-5b37-42c4-8b95-0fd1a1f07bb0",
   "metadata": {},
   "outputs": [],
   "source": []
  }
 ],
 "metadata": {
  "kernelspec": {
   "display_name": "Python 3 (ipykernel)",
   "language": "python",
   "name": "python3"
  },
  "language_info": {
   "codemirror_mode": {
    "name": "ipython",
    "version": 3
   },
   "file_extension": ".py",
   "mimetype": "text/x-python",
   "name": "python",
   "nbconvert_exporter": "python",
   "pygments_lexer": "ipython3",
   "version": "3.10.13"
  }
 },
 "nbformat": 4,
 "nbformat_minor": 5
}
