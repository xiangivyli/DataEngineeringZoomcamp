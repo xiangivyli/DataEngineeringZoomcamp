{
 "cells": [
  {
   "cell_type": "code",
   "execution_count": 1,
   "id": "4c41fcb7",
   "metadata": {},
   "outputs": [
    {
     "name": "stderr",
     "output_type": "stream",
     "text": [
      "Setting default log level to \"WARN\".\n",
      "To adjust logging level use sc.setLogLevel(newLevel). For SparkR, use setLogLevel(newLevel).\n"
     ]
    },
    {
     "name": "stdout",
     "output_type": "stream",
     "text": [
      "24/03/05 15:36:21 WARN NativeCodeLoader: Unable to load native-hadoop library for your platform... using builtin-java classes where applicable\n",
      "24/03/05 15:36:23 WARN Utils: Service 'SparkUI' could not bind on port 4040. Attempting port 4041.\n"
     ]
    }
   ],
   "source": [
    "import pyspark\n",
    "from pyspark.sql import SparkSession\n",
    "\n",
    "spark = SparkSession.builder \\\n",
    "     .master(\"local[*]\") \\\n",
    "     .appName(\"rdd\") \\\n",
    "     .getOrCreate()"
   ]
  },
  {
   "cell_type": "code",
   "execution_count": 2,
   "id": "a13409cc",
   "metadata": {},
   "outputs": [
    {
     "name": "stderr",
     "output_type": "stream",
     "text": [
      "                                                                                \r"
     ]
    }
   ],
   "source": [
    "df_green = spark.read.parquet(\"data/pq/green/*/*\")"
   ]
  },
  {
   "cell_type": "markdown",
   "id": "cdbceade-1b40-49a3-a2ff-a0edae613265",
   "metadata": {},
   "source": [
    "# RDD Part 1 Acieve the same data processing with RDD functions"
   ]
  },
  {
   "cell_type": "markdown",
   "id": "2aa0b17a-b05d-4fc1-9ad1-cd7fb61867a9",
   "metadata": {},
   "source": [
    "I would like to achieve the following actions with rdd\n",
    "\n",
    "```\n",
    "SELECT \n",
    "    -- Reveneue grouping \n",
    "    PULocationID AS zone,\n",
    "    date_trunc(\"hour\", lpep_pickup_datetime) AS hour, \n",
    "\n",
    "    SUM(total_amount) AS amount,\n",
    "    COUNT(1) AS number_records\n",
    "FROM \n",
    "    green\n",
    "WHERE\n",
    "    lpep_pickup_datetime >= \"2020-01-01 00:00:00\"\n",
    "GROUP BY \n",
    "    zone, hour\n",
    "```"
   ]
  },
  {
   "cell_type": "code",
   "execution_count": 20,
   "id": "2088e1f5",
   "metadata": {},
   "outputs": [],
   "source": [
    "# keep needed columns\n",
    "rdd = df_green \\\n",
    "    .select(\"lpep_pickup_datetime\", \"PULocationID\", \"total_amount\") \\\n",
    "    .rdd"
   ]
  },
  {
   "cell_type": "markdown",
   "id": "011afc26-82a8-4f2f-8810-9a97054d74b6",
   "metadata": {},
   "source": [
    "## step 1 filter pickup date begins from 2020-01-01\n",
    "using rdd.filter()"
   ]
  },
  {
   "cell_type": "code",
   "execution_count": 11,
   "id": "05f4d7cf-c5c9-4233-aa8d-e1261213e505",
   "metadata": {},
   "outputs": [],
   "source": [
    "from datetime import datetime"
   ]
  },
  {
   "cell_type": "code",
   "execution_count": 16,
   "id": "11fb1f92-fdcd-4b02-a0fe-997aad0a1cd4",
   "metadata": {},
   "outputs": [],
   "source": [
    "start = datetime(year=2020, month=1, day=1)\n",
    "\n",
    "def filter_outliers(row):\n",
    "    return row.lpep_pickup_datetime >= start"
   ]
  },
  {
   "cell_type": "code",
   "execution_count": 17,
   "id": "d87f511d",
   "metadata": {},
   "outputs": [
    {
     "data": {
      "text/plain": [
       "[Row(lpep_pickup_datetime=datetime.datetime(2020, 1, 23, 13, 10, 15), PULocationID=74, total_amount=44.97)]"
      ]
     },
     "execution_count": 17,
     "metadata": {},
     "output_type": "execute_result"
    }
   ],
   "source": [
    "rdd.filter(filter_outliers).take(1)"
   ]
  },
  {
   "cell_type": "markdown",
   "id": "db0f25ad-c09f-45c9-a6fb-86f3a5f64b54",
   "metadata": {},
   "source": [
    "## step 2 group by \n",
    "using map()"
   ]
  },
  {
   "cell_type": "code",
   "execution_count": 21,
   "id": "72b1681b-3b36-45df-9951-5ac2c11f9c8f",
   "metadata": {},
   "outputs": [],
   "source": [
    "rows = rdd.take(10)\n",
    "row = rows[0]"
   ]
  },
  {
   "cell_type": "code",
   "execution_count": 24,
   "id": "c7a8b232-6448-4a0b-ab10-26401fff9e96",
   "metadata": {},
   "outputs": [
    {
     "data": {
      "text/plain": [
       "datetime.datetime(2020, 1, 23, 13, 10, 15)"
      ]
     },
     "execution_count": 24,
     "metadata": {},
     "output_type": "execute_result"
    }
   ],
   "source": [
    "row.lpep_pickup_datetime"
   ]
  },
  {
   "cell_type": "code",
   "execution_count": 23,
   "id": "de4ac2e3-02d2-4a0a-95fa-82cd1153cc35",
   "metadata": {},
   "outputs": [
    {
     "data": {
      "text/plain": [
       "datetime.datetime(2020, 1, 23, 13, 0)"
      ]
     },
     "execution_count": 23,
     "metadata": {},
     "output_type": "execute_result"
    }
   ],
   "source": [
    "row.lpep_pickup_datetime.replace(minute=0, second=0, microsecond=0)"
   ]
  },
  {
   "cell_type": "code",
   "execution_count": 29,
   "id": "46491946-e903-4908-8e27-7a837384fffb",
   "metadata": {},
   "outputs": [],
   "source": [
    "def prepare_for_grouping(row):\n",
    "    hour = row.lpep_pickup_datetime.replace(minute=0, second=0, microsecond=0)\n",
    "    zone = row.PULocationID\n",
    "    key = (hour, zone)\n",
    "\n",
    "    amount = row.total_amount\n",
    "    count = 1\n",
    "    value = (amount, count)\n",
    "    \n",
    "    return (key, value)"
   ]
  },
  {
   "cell_type": "code",
   "execution_count": 30,
   "id": "d9420fd9-45c9-4fbd-b3c5-8757043342e1",
   "metadata": {},
   "outputs": [
    {
     "data": {
      "text/plain": [
       "[((datetime.datetime(2020, 1, 23, 13, 0), 74), (44.97, 1)),\n",
       " ((datetime.datetime(2020, 1, 20, 15, 0), 67), (33.45, 1)),\n",
       " ((datetime.datetime(2020, 1, 15, 20, 0), 260), (8.3, 1)),\n",
       " ((datetime.datetime(2020, 1, 5, 16, 0), 82), (8.3, 1)),\n",
       " ((datetime.datetime(2020, 1, 29, 19, 0), 166), (12.74, 1))]"
      ]
     },
     "execution_count": 30,
     "metadata": {},
     "output_type": "execute_result"
    }
   ],
   "source": [
    "rdd \\\n",
    "    .filter(filter_outliers) \\\n",
    "    .map(prepare_for_grouping) \\\n",
    "    .take(5)"
   ]
  },
  {
   "cell_type": "markdown",
   "id": "e4ee3705-89eb-46c9-abc5-ca89c9afd05f",
   "metadata": {},
   "source": [
    "## step 3 reduce records by keys \n",
    "same keys sum the values"
   ]
  },
  {
   "cell_type": "code",
   "execution_count": 31,
   "id": "a0074f9b-2406-4d11-8afd-7fa42f1ffac0",
   "metadata": {},
   "outputs": [],
   "source": [
    "def calculate_revenue(left_value, right_value):\n",
    "    left_amount, left_count = left_value\n",
    "    right_amount, right_count = right_value\n",
    "\n",
    "    output_amount = left_amount + right_amount\n",
    "    output_count = left_count + right_count\n",
    "    \n",
    "    return (output_amount, output_count)"
   ]
  },
  {
   "cell_type": "code",
   "execution_count": 32,
   "id": "515d2ec6-2203-4939-96e8-732ffbce14f4",
   "metadata": {},
   "outputs": [
    {
     "name": "stderr",
     "output_type": "stream",
     "text": [
      "                                                                                \r"
     ]
    },
    {
     "data": {
      "text/plain": [
       "[((datetime.datetime(2020, 1, 23, 13, 0), 74), (1044.0499999999993, 60)),\n",
       " ((datetime.datetime(2020, 1, 20, 15, 0), 67), (79.5, 3)),\n",
       " ((datetime.datetime(2020, 1, 15, 20, 0), 260), (163.90000000000003, 14)),\n",
       " ((datetime.datetime(2020, 1, 5, 16, 0), 82), (500.4700000000002, 33)),\n",
       " ((datetime.datetime(2020, 1, 15, 11, 0), 179), (50.5, 5))]"
      ]
     },
     "execution_count": 32,
     "metadata": {},
     "output_type": "execute_result"
    }
   ],
   "source": [
    "rdd \\\n",
    "    .filter(filter_outliers) \\\n",
    "    .map(prepare_for_grouping) \\\n",
    "    .reduceByKey(calculate_revenue) \\\n",
    "    .take(5)\n",
    "\n",
    "#the output is the composite key (datetime and zone_id) and value（total_revenue, records)"
   ]
  },
  {
   "cell_type": "markdown",
   "id": "b93030de-2ce9-4d63-a2f8-0390c964e1dc",
   "metadata": {},
   "source": [
    "## step 4 unnest the output"
   ]
  },
  {
   "cell_type": "code",
   "execution_count": 33,
   "id": "f6bf4d54-c8c6-4ae6-84a5-bcaa06ab1491",
   "metadata": {},
   "outputs": [],
   "source": [
    "def unwrap(row):\n",
    "    return (row[0][0], row[0][1], row[1][0], row[1][1])"
   ]
  },
  {
   "cell_type": "code",
   "execution_count": 34,
   "id": "a628b807-f5b4-41c1-9d28-d50734f9173d",
   "metadata": {},
   "outputs": [
    {
     "name": "stderr",
     "output_type": "stream",
     "text": [
      "                                                                                \r"
     ]
    },
    {
     "data": {
      "text/plain": [
       "[(datetime.datetime(2020, 1, 23, 13, 0), 74, 1044.0499999999993, 60),\n",
       " (datetime.datetime(2020, 1, 20, 15, 0), 67, 79.5, 3),\n",
       " (datetime.datetime(2020, 1, 15, 20, 0), 260, 163.90000000000003, 14),\n",
       " (datetime.datetime(2020, 1, 5, 16, 0), 82, 500.4700000000002, 33),\n",
       " (datetime.datetime(2020, 1, 15, 11, 0), 179, 50.5, 5)]"
      ]
     },
     "execution_count": 34,
     "metadata": {},
     "output_type": "execute_result"
    }
   ],
   "source": [
    "rdd \\\n",
    "    .filter(filter_outliers) \\\n",
    "    .map(prepare_for_grouping) \\\n",
    "    .reduceByKey(calculate_revenue) \\\n",
    "    .map(unwrap) \\\n",
    "    .take(5)"
   ]
  },
  {
   "cell_type": "code",
   "execution_count": 35,
   "id": "0ed1d5c5-278d-44be-b247-66d55669083c",
   "metadata": {},
   "outputs": [
    {
     "name": "stderr",
     "output_type": "stream",
     "text": [
      "                                                                                \r"
     ]
    },
    {
     "data": {
      "text/plain": [
       "[Row(_1=datetime.datetime(2020, 1, 23, 13, 0), _2=74, _3=1044.0499999999993, _4=60),\n",
       " Row(_1=datetime.datetime(2020, 1, 20, 15, 0), _2=67, _3=79.5, _4=3),\n",
       " Row(_1=datetime.datetime(2020, 1, 15, 20, 0), _2=260, _3=163.90000000000003, _4=14),\n",
       " Row(_1=datetime.datetime(2020, 1, 5, 16, 0), _2=82, _3=500.4700000000002, _4=33),\n",
       " Row(_1=datetime.datetime(2020, 1, 15, 11, 0), _2=179, _3=50.5, _4=5)]"
      ]
     },
     "execution_count": 35,
     "metadata": {},
     "output_type": "execute_result"
    }
   ],
   "source": [
    "## to dataframe\n",
    "\n",
    "rdd \\\n",
    "    .filter(filter_outliers) \\\n",
    "    .map(prepare_for_grouping) \\\n",
    "    .reduceByKey(calculate_revenue) \\\n",
    "    .map(unwrap) \\\n",
    "    .toDF() \\\n",
    "    .take(5)"
   ]
  },
  {
   "cell_type": "markdown",
   "id": "d5e6ab0e-8955-4ed3-b848-c2e2230b5bba",
   "metadata": {},
   "source": [
    "add coloumn name"
   ]
  },
  {
   "cell_type": "code",
   "execution_count": 36,
   "id": "20b990aa-1b9d-4069-9334-c552a519e25e",
   "metadata": {},
   "outputs": [],
   "source": [
    "from collections import namedtuple"
   ]
  },
  {
   "cell_type": "code",
   "execution_count": 39,
   "id": "c0cfc0e7-9b37-4fd4-886c-777a10b10243",
   "metadata": {},
   "outputs": [],
   "source": [
    "RevenueRow = namedtuple(\"RevenueRow\", [\"hour\", \"zone\", \"revenue\", \"count\"])"
   ]
  },
  {
   "cell_type": "code",
   "execution_count": 40,
   "id": "b0a1c94f-ba53-4ace-ab49-216806bb4be6",
   "metadata": {},
   "outputs": [],
   "source": [
    "def unwrap_with_column_name(row):\n",
    "    return RevenueRow(\n",
    "        hour = row[0][0], \n",
    "        zone=row[0][1], \n",
    "        revenue=row[1][0], \n",
    "        count=row[1][1]\n",
    "    )"
   ]
  },
  {
   "cell_type": "code",
   "execution_count": 41,
   "id": "78e92014-d6eb-47f9-8161-c8a585441364",
   "metadata": {},
   "outputs": [
    {
     "name": "stderr",
     "output_type": "stream",
     "text": [
      "                                                                                \r"
     ]
    },
    {
     "data": {
      "text/plain": [
       "[Row(hour=datetime.datetime(2020, 1, 23, 13, 0), zone=74, revenue=1044.0499999999993, count=60),\n",
       " Row(hour=datetime.datetime(2020, 1, 20, 15, 0), zone=67, revenue=79.5, count=3),\n",
       " Row(hour=datetime.datetime(2020, 1, 15, 20, 0), zone=260, revenue=163.90000000000003, count=14),\n",
       " Row(hour=datetime.datetime(2020, 1, 5, 16, 0), zone=82, revenue=500.4700000000002, count=33),\n",
       " Row(hour=datetime.datetime(2020, 1, 15, 11, 0), zone=179, revenue=50.5, count=5)]"
      ]
     },
     "execution_count": 41,
     "metadata": {},
     "output_type": "execute_result"
    }
   ],
   "source": [
    "rdd \\\n",
    "    .filter(filter_outliers) \\\n",
    "    .map(prepare_for_grouping) \\\n",
    "    .reduceByKey(calculate_revenue) \\\n",
    "    .map(unwrap_with_column_name) \\\n",
    "    .toDF() \\\n",
    "    .take(5)"
   ]
  },
  {
   "cell_type": "code",
   "execution_count": 42,
   "id": "8ca78cf2-18f9-40dc-ada6-4d112f5a9638",
   "metadata": {},
   "outputs": [
    {
     "name": "stderr",
     "output_type": "stream",
     "text": [
      "                                                                                \r"
     ]
    }
   ],
   "source": [
    "df_result = rdd \\\n",
    "    .filter(filter_outliers) \\\n",
    "    .map(prepare_for_grouping) \\\n",
    "    .reduceByKey(calculate_revenue) \\\n",
    "    .map(unwrap_with_column_name) \\\n",
    "    .toDF() "
   ]
  },
  {
   "cell_type": "markdown",
   "id": "f113320c-2ccf-42cd-bffa-54be07e89b6a",
   "metadata": {},
   "source": [
    "## step 5 add schema"
   ]
  },
  {
   "cell_type": "code",
   "execution_count": 43,
   "id": "2ddaf640-e794-4797-b8c2-c748050d6672",
   "metadata": {},
   "outputs": [
    {
     "data": {
      "text/plain": [
       "StructType([StructField('hour', TimestampType(), True), StructField('zone', LongType(), True), StructField('revenue', DoubleType(), True), StructField('count', LongType(), True)])"
      ]
     },
     "execution_count": 43,
     "metadata": {},
     "output_type": "execute_result"
    }
   ],
   "source": [
    "df_result.schema"
   ]
  },
  {
   "cell_type": "code",
   "execution_count": 93,
   "id": "6cd1ce92-4a5e-40c1-9966-33a6a92b7955",
   "metadata": {},
   "outputs": [],
   "source": [
    "from pyspark.sql import types"
   ]
  },
  {
   "cell_type": "code",
   "execution_count": 45,
   "id": "1522a1d5-acd0-41c4-85f0-2be00b9a8234",
   "metadata": {},
   "outputs": [],
   "source": [
    "result_schema = types.StructType([\n",
    "    types.StructField('hour', types.TimestampType(), True), \n",
    "    types.StructField('zone', types.IntegerType(), True), \n",
    "    types.StructField('revenue', types.DoubleType(), True), \n",
    "    types.StructField('count', types.IntegerType(), True)\n",
    "])"
   ]
  },
  {
   "cell_type": "code",
   "execution_count": 46,
   "id": "60dc1ed8-137f-4694-899e-bafb6bdca9e4",
   "metadata": {},
   "outputs": [],
   "source": [
    "df_result = rdd \\\n",
    "    .filter(filter_outliers) \\\n",
    "    .map(prepare_for_grouping) \\\n",
    "    .reduceByKey(calculate_revenue) \\\n",
    "    .map(unwrap_with_column_name) \\\n",
    "    .toDF(result_schema)"
   ]
  },
  {
   "cell_type": "code",
   "execution_count": 50,
   "id": "b510dc99-8260-4dfc-9667-b7d19b24d71b",
   "metadata": {},
   "outputs": [
    {
     "name": "stderr",
     "output_type": "stream",
     "text": [
      "[Stage 37:>                                                         (0 + 1) / 1]\r"
     ]
    },
    {
     "name": "stdout",
     "output_type": "stream",
     "text": [
      "+-------------------+----+------------------+-----+\n",
      "|               hour|zone|           revenue|count|\n",
      "+-------------------+----+------------------+-----+\n",
      "|2020-01-23 13:00:00|  74|1044.0499999999993|   60|\n",
      "|2020-01-20 15:00:00|  67|              79.5|    3|\n",
      "|2020-01-15 20:00:00| 260|163.90000000000003|   14|\n",
      "|2020-01-05 16:00:00|  82| 500.4700000000002|   33|\n",
      "|2020-01-15 11:00:00| 179|              50.5|    5|\n",
      "+-------------------+----+------------------+-----+\n",
      "only showing top 5 rows\n",
      "\n"
     ]
    },
    {
     "name": "stderr",
     "output_type": "stream",
     "text": [
      "                                                                                \r"
     ]
    }
   ],
   "source": [
    "df_result.show(5)"
   ]
  },
  {
   "cell_type": "code",
   "execution_count": 49,
   "id": "192b5b99-72d2-4279-97d1-c729da75f952",
   "metadata": {},
   "outputs": [
    {
     "name": "stderr",
     "output_type": "stream",
     "text": [
      "                                                                                \r"
     ]
    }
   ],
   "source": [
    "df_result.write.parquet(\"data/tmp/green-revenue\")"
   ]
  },
  {
   "cell_type": "markdown",
   "id": "90449d2b-bd0b-4cdf-b257-18b47fe8430d",
   "metadata": {},
   "source": [
    "# RDD Part 2 mapPartition"
   ]
  },
  {
   "cell_type": "markdown",
   "id": "79e130b5-aa34-4441-8e4d-a72307d24f58",
   "metadata": {},
   "source": [
    "handle paritions with functions using map, then output partitions again"
   ]
  },
  {
   "cell_type": "markdown",
   "id": "97b3f622-77ba-4e45-8334-eb947c0c2e5f",
   "metadata": {},
   "source": [
    "the purpose of this session is to do machine learning to predict the trip distance"
   ]
  },
  {
   "cell_type": "markdown",
   "id": "9c974a13-be33-404b-ae33-63fc46ba4242",
   "metadata": {},
   "source": [
    "## step 1 count the number of records in each partition"
   ]
  },
  {
   "cell_type": "code",
   "execution_count": 59,
   "id": "ebdee010-7b4d-4499-a7fd-57d84f4ac188",
   "metadata": {},
   "outputs": [],
   "source": [
    "columns = [\"VendorID\", \"lpep_pickup_datetime\", \"PULocationID\", \"DOLocationID\", \"trip_distance\"]\n",
    "\n",
    "duration_rdd = df_green \\\n",
    "    .select(columns) \\\n",
    "    .rdd"
   ]
  },
  {
   "cell_type": "code",
   "execution_count": 64,
   "id": "d487cbf1-45a6-4b52-af94-f07f57f05b7b",
   "metadata": {},
   "outputs": [],
   "source": [
    "def apply_model_in_batch(partition):\n",
    "    cnt = 0\n",
    "\n",
    "    for row in partition:\n",
    "        cnt = cnt + 1\n",
    "        \n",
    "    return [cnt]"
   ]
  },
  {
   "cell_type": "code",
   "execution_count": 65,
   "id": "2ad50ab3-cde5-4e67-bd46-c8fd0d01c14a",
   "metadata": {},
   "outputs": [
    {
     "name": "stderr",
     "output_type": "stream",
     "text": [
      "                                                                                \r"
     ]
    },
    {
     "data": {
      "text/plain": [
       "[1317800, 597023, 389694]"
      ]
     },
     "execution_count": 65,
     "metadata": {},
     "output_type": "execute_result"
    }
   ],
   "source": [
    "duration_rdd.mapPartitions(apply_model_in_batch).collect()\n",
    "# it means I have 3 partitions"
   ]
  },
  {
   "cell_type": "markdown",
   "id": "8ae54748-c40b-4e9f-8bd1-e36471675d85",
   "metadata": {},
   "source": [
    "## step 2 using pandas DataFrame to count the records, but it consumes lots of memory"
   ]
  },
  {
   "cell_type": "code",
   "execution_count": 66,
   "id": "a66accf4-2c79-42d8-ad32-b48ce82197ba",
   "metadata": {},
   "outputs": [],
   "source": [
    "import pandas as pd"
   ]
  },
  {
   "cell_type": "code",
   "execution_count": 67,
   "id": "82131758-fd5c-4657-9491-00d9bb0f0a7d",
   "metadata": {},
   "outputs": [],
   "source": [
    "rows = duration_rdd.take(10)"
   ]
  },
  {
   "cell_type": "code",
   "execution_count": 69,
   "id": "81f69447-8692-4d72-8519-d5c4f3e955ba",
   "metadata": {},
   "outputs": [
    {
     "data": {
      "text/html": [
       "<div>\n",
       "<style scoped>\n",
       "    .dataframe tbody tr th:only-of-type {\n",
       "        vertical-align: middle;\n",
       "    }\n",
       "\n",
       "    .dataframe tbody tr th {\n",
       "        vertical-align: top;\n",
       "    }\n",
       "\n",
       "    .dataframe thead th {\n",
       "        text-align: right;\n",
       "    }\n",
       "</style>\n",
       "<table border=\"1\" class=\"dataframe\">\n",
       "  <thead>\n",
       "    <tr style=\"text-align: right;\">\n",
       "      <th></th>\n",
       "      <th>VendorID</th>\n",
       "      <th>lpep_pickup_datetime</th>\n",
       "      <th>PULocationID</th>\n",
       "      <th>DOLocationID</th>\n",
       "      <th>trip_distance</th>\n",
       "    </tr>\n",
       "  </thead>\n",
       "  <tbody>\n",
       "    <tr>\n",
       "      <th>0</th>\n",
       "      <td>2.0</td>\n",
       "      <td>2020-01-23 13:10:15</td>\n",
       "      <td>74</td>\n",
       "      <td>130</td>\n",
       "      <td>12.77</td>\n",
       "    </tr>\n",
       "    <tr>\n",
       "      <th>1</th>\n",
       "      <td>NaN</td>\n",
       "      <td>2020-01-20 15:09:00</td>\n",
       "      <td>67</td>\n",
       "      <td>39</td>\n",
       "      <td>8.00</td>\n",
       "    </tr>\n",
       "    <tr>\n",
       "      <th>2</th>\n",
       "      <td>2.0</td>\n",
       "      <td>2020-01-15 20:23:41</td>\n",
       "      <td>260</td>\n",
       "      <td>157</td>\n",
       "      <td>1.27</td>\n",
       "    </tr>\n",
       "    <tr>\n",
       "      <th>3</th>\n",
       "      <td>2.0</td>\n",
       "      <td>2020-01-05 16:32:26</td>\n",
       "      <td>82</td>\n",
       "      <td>83</td>\n",
       "      <td>1.25</td>\n",
       "    </tr>\n",
       "    <tr>\n",
       "      <th>4</th>\n",
       "      <td>2.0</td>\n",
       "      <td>2020-01-29 19:22:42</td>\n",
       "      <td>166</td>\n",
       "      <td>42</td>\n",
       "      <td>1.84</td>\n",
       "    </tr>\n",
       "    <tr>\n",
       "      <th>5</th>\n",
       "      <td>2.0</td>\n",
       "      <td>2020-01-15 11:07:42</td>\n",
       "      <td>179</td>\n",
       "      <td>223</td>\n",
       "      <td>0.76</td>\n",
       "    </tr>\n",
       "    <tr>\n",
       "      <th>6</th>\n",
       "      <td>2.0</td>\n",
       "      <td>2020-01-16 08:22:29</td>\n",
       "      <td>41</td>\n",
       "      <td>237</td>\n",
       "      <td>3.32</td>\n",
       "    </tr>\n",
       "    <tr>\n",
       "      <th>7</th>\n",
       "      <td>2.0</td>\n",
       "      <td>2020-01-28 17:05:28</td>\n",
       "      <td>75</td>\n",
       "      <td>161</td>\n",
       "      <td>2.21</td>\n",
       "    </tr>\n",
       "    <tr>\n",
       "      <th>8</th>\n",
       "      <td>1.0</td>\n",
       "      <td>2020-01-22 14:51:37</td>\n",
       "      <td>152</td>\n",
       "      <td>166</td>\n",
       "      <td>0.90</td>\n",
       "    </tr>\n",
       "    <tr>\n",
       "      <th>9</th>\n",
       "      <td>2.0</td>\n",
       "      <td>2020-01-31 10:25:04</td>\n",
       "      <td>75</td>\n",
       "      <td>234</td>\n",
       "      <td>6.10</td>\n",
       "    </tr>\n",
       "  </tbody>\n",
       "</table>\n",
       "</div>"
      ],
      "text/plain": [
       "   VendorID lpep_pickup_datetime  PULocationID  DOLocationID  trip_distance\n",
       "0       2.0  2020-01-23 13:10:15            74           130          12.77\n",
       "1       NaN  2020-01-20 15:09:00            67            39           8.00\n",
       "2       2.0  2020-01-15 20:23:41           260           157           1.27\n",
       "3       2.0  2020-01-05 16:32:26            82            83           1.25\n",
       "4       2.0  2020-01-29 19:22:42           166            42           1.84\n",
       "5       2.0  2020-01-15 11:07:42           179           223           0.76\n",
       "6       2.0  2020-01-16 08:22:29            41           237           3.32\n",
       "7       2.0  2020-01-28 17:05:28            75           161           2.21\n",
       "8       1.0  2020-01-22 14:51:37           152           166           0.90\n",
       "9       2.0  2020-01-31 10:25:04            75           234           6.10"
      ]
     },
     "execution_count": 69,
     "metadata": {},
     "output_type": "execute_result"
    }
   ],
   "source": [
    "pd.DataFrame(rows, columns=columns)"
   ]
  },
  {
   "cell_type": "code",
   "execution_count": 73,
   "id": "791557b3-7858-4a2d-b791-31fcf7c7de5a",
   "metadata": {},
   "outputs": [],
   "source": [
    "def apply_model_in_batch_pd(rows):\n",
    "    df = pd.DataFrame(rows, columns=columns)\n",
    "    cnt = len(df)     \n",
    "    return [cnt]\n",
    "\n",
    "# I choose 10 rows to define the function to count the records, and mapParitions applies it to the whole DataFrame"
   ]
  },
  {
   "cell_type": "code",
   "execution_count": 74,
   "id": "1097262d-8d5c-4032-bc70-eb920aceb0f6",
   "metadata": {},
   "outputs": [
    {
     "name": "stderr",
     "output_type": "stream",
     "text": [
      "                                                                                \r"
     ]
    },
    {
     "data": {
      "text/plain": [
       "[1317800, 597023, 389694]"
      ]
     },
     "execution_count": 74,
     "metadata": {},
     "output_type": "execute_result"
    }
   ],
   "source": [
    "duration_rdd.mapPartitions(apply_model_in_batch).collect()"
   ]
  },
  {
   "cell_type": "markdown",
   "id": "a334de11-4fc8-4609-8c8a-3298315fafd7",
   "metadata": {},
   "source": [
    "## step 3 do the machine learning"
   ]
  },
  {
   "cell_type": "code",
   "execution_count": 76,
   "id": "e3bfd6be-6c03-44de-9867-d29f0a7859ad",
   "metadata": {},
   "outputs": [
    {
     "data": {
      "text/plain": [
       "[Pandas(Index=0, VendorID=2.0, lpep_pickup_datetime=Timestamp('2020-01-23 13:10:15'), PULocationID=74, DOLocationID=130, trip_distance=12.77),\n",
       " Pandas(Index=1, VendorID=nan, lpep_pickup_datetime=Timestamp('2020-01-20 15:09:00'), PULocationID=67, DOLocationID=39, trip_distance=8.0),\n",
       " Pandas(Index=2, VendorID=2.0, lpep_pickup_datetime=Timestamp('2020-01-15 20:23:41'), PULocationID=260, DOLocationID=157, trip_distance=1.27),\n",
       " Pandas(Index=3, VendorID=2.0, lpep_pickup_datetime=Timestamp('2020-01-05 16:32:26'), PULocationID=82, DOLocationID=83, trip_distance=1.25),\n",
       " Pandas(Index=4, VendorID=2.0, lpep_pickup_datetime=Timestamp('2020-01-29 19:22:42'), PULocationID=166, DOLocationID=42, trip_distance=1.84),\n",
       " Pandas(Index=5, VendorID=2.0, lpep_pickup_datetime=Timestamp('2020-01-15 11:07:42'), PULocationID=179, DOLocationID=223, trip_distance=0.76),\n",
       " Pandas(Index=6, VendorID=2.0, lpep_pickup_datetime=Timestamp('2020-01-16 08:22:29'), PULocationID=41, DOLocationID=237, trip_distance=3.32),\n",
       " Pandas(Index=7, VendorID=2.0, lpep_pickup_datetime=Timestamp('2020-01-28 17:05:28'), PULocationID=75, DOLocationID=161, trip_distance=2.21),\n",
       " Pandas(Index=8, VendorID=1.0, lpep_pickup_datetime=Timestamp('2020-01-22 14:51:37'), PULocationID=152, DOLocationID=166, trip_distance=0.9),\n",
       " Pandas(Index=9, VendorID=2.0, lpep_pickup_datetime=Timestamp('2020-01-31 10:25:04'), PULocationID=75, DOLocationID=234, trip_distance=6.1)]"
      ]
     },
     "execution_count": 76,
     "metadata": {},
     "output_type": "execute_result"
    }
   ],
   "source": [
    "# understand the iterator\n",
    "df = pd.DataFrame(rows, columns=columns)\n",
    "list(df.itertuples())"
   ]
  },
  {
   "cell_type": "code",
   "execution_count": 83,
   "id": "ad17969f-31ff-47af-87d3-7a9910568472",
   "metadata": {},
   "outputs": [],
   "source": [
    "#model = ...\n",
    "\n",
    "def model_predict(df):\n",
    "    y_pred = df.trip_distance * 5\n",
    "    return y_pred"
   ]
  },
  {
   "cell_type": "code",
   "execution_count": 84,
   "id": "4e3a4017-bc39-4c6a-8af9-aafe6443b49f",
   "metadata": {},
   "outputs": [],
   "source": [
    "def apply_model_in_batch_predict(rows):\n",
    "    df = pd.DataFrame(rows, columns=columns)\n",
    "    predictions = model_predict(df)\n",
    "\n",
    "    df[\"predicted_duration\"] = predictions\n",
    "\n",
    "    for row in df.itertuples():\n",
    "        yield row"
   ]
  },
  {
   "cell_type": "code",
   "execution_count": 97,
   "id": "1fe4c63c-44ca-45b7-8863-dbf1b304316d",
   "metadata": {},
   "outputs": [
    {
     "name": "stderr",
     "output_type": "stream",
     "text": [
      "                                                                                \r"
     ]
    },
    {
     "data": {
      "text/plain": [
       "[Pandas(Index=0, VendorID=2.0, lpep_pickup_datetime=Timestamp('2020-01-23 13:10:15'), PULocationID=74, DOLocationID=130, trip_distance=12.77, predicted_duration=63.849999999999994),\n",
       " Pandas(Index=1, VendorID=nan, lpep_pickup_datetime=Timestamp('2020-01-20 15:09:00'), PULocationID=67, DOLocationID=39, trip_distance=8.0, predicted_duration=40.0),\n",
       " Pandas(Index=2, VendorID=2.0, lpep_pickup_datetime=Timestamp('2020-01-15 20:23:41'), PULocationID=260, DOLocationID=157, trip_distance=1.27, predicted_duration=6.35),\n",
       " Pandas(Index=3, VendorID=2.0, lpep_pickup_datetime=Timestamp('2020-01-05 16:32:26'), PULocationID=82, DOLocationID=83, trip_distance=1.25, predicted_duration=6.25),\n",
       " Pandas(Index=4, VendorID=2.0, lpep_pickup_datetime=Timestamp('2020-01-29 19:22:42'), PULocationID=166, DOLocationID=42, trip_distance=1.84, predicted_duration=9.200000000000001),\n",
       " Pandas(Index=5, VendorID=2.0, lpep_pickup_datetime=Timestamp('2020-01-15 11:07:42'), PULocationID=179, DOLocationID=223, trip_distance=0.76, predicted_duration=3.8),\n",
       " Pandas(Index=6, VendorID=2.0, lpep_pickup_datetime=Timestamp('2020-01-16 08:22:29'), PULocationID=41, DOLocationID=237, trip_distance=3.32, predicted_duration=16.599999999999998),\n",
       " Pandas(Index=7, VendorID=2.0, lpep_pickup_datetime=Timestamp('2020-01-28 17:05:28'), PULocationID=75, DOLocationID=161, trip_distance=2.21, predicted_duration=11.05),\n",
       " Pandas(Index=8, VendorID=1.0, lpep_pickup_datetime=Timestamp('2020-01-22 14:51:37'), PULocationID=152, DOLocationID=166, trip_distance=0.9, predicted_duration=4.5),\n",
       " Pandas(Index=9, VendorID=2.0, lpep_pickup_datetime=Timestamp('2020-01-31 10:25:04'), PULocationID=75, DOLocationID=234, trip_distance=6.1, predicted_duration=30.5)]"
      ]
     },
     "execution_count": 97,
     "metadata": {},
     "output_type": "execute_result"
    }
   ],
   "source": [
    "duration_rdd.mapPartitions(apply_model_in_batch_predict).take(10)"
   ]
  },
  {
   "cell_type": "code",
   "execution_count": 98,
   "id": "39d24082-8a6e-4f90-9c85-0d481e268d9f",
   "metadata": {},
   "outputs": [
    {
     "name": "stderr",
     "output_type": "stream",
     "text": [
      "                                                                                \r"
     ]
    }
   ],
   "source": [
    "df_predicts = duration_rdd \\\n",
    "    .mapPartitions(apply_model_in_batch_predict) \\\n",
    "    .toDF() \\\n",
    "    .drop(\"Index\")"
   ]
  },
  {
   "cell_type": "code",
   "execution_count": 99,
   "id": "88bc049b-67f8-423f-8b7e-b45ff0608a9a",
   "metadata": {},
   "outputs": [
    {
     "name": "stderr",
     "output_type": "stream",
     "text": [
      "[Stage 59:>                                                         (0 + 1) / 1]\r"
     ]
    },
    {
     "name": "stdout",
     "output_type": "stream",
     "text": [
      "+--------+--------------------+------------+------------+-------------+------------------+\n",
      "|VendorID|lpep_pickup_datetime|PULocationID|DOLocationID|trip_distance|predicted_duration|\n",
      "+--------+--------------------+------------+------------+-------------+------------------+\n",
      "|     2.0|                  {}|          74|         130|        12.77|63.849999999999994|\n",
      "|     NaN|                  {}|          67|          39|          8.0|              40.0|\n",
      "|     2.0|                  {}|         260|         157|         1.27|              6.35|\n",
      "|     2.0|                  {}|          82|          83|         1.25|              6.25|\n",
      "|     2.0|                  {}|         166|          42|         1.84| 9.200000000000001|\n",
      "+--------+--------------------+------------+------------+-------------+------------------+\n",
      "only showing top 5 rows\n",
      "\n"
     ]
    },
    {
     "name": "stderr",
     "output_type": "stream",
     "text": [
      "                                                                                \r"
     ]
    }
   ],
   "source": [
    "df_predicts.show(5)"
   ]
  },
  {
   "cell_type": "code",
   "execution_count": 131,
   "id": "01a8dfbc-51e5-424c-bb96-d8fb0658d1b8",
   "metadata": {},
   "outputs": [],
   "source": [
    "# convert \n",
    "def apply_model_in_batch_predict_timestamp(rows):\n",
    "    df = pd.DataFrame(rows, columns=columns) \n",
    "    # Convert the Pandas Timestamp to string format that Spark can understand\n",
    "    df['lpep_pickup_datetime'] = df['lpep_pickup_datetime'].astype(str)\n",
    "\n",
    "    predictions = model_predict(df)\n",
    "    df[\"predicted_duration\"] = predictions\n",
    "\n",
    "    for row in df.itertuples(index=False):\n",
    "        yield row"
   ]
  },
  {
   "cell_type": "code",
   "execution_count": 132,
   "id": "b5843fa5-c410-406d-a1b9-912c896499d7",
   "metadata": {},
   "outputs": [
    {
     "name": "stderr",
     "output_type": "stream",
     "text": [
      "                                                                                \r"
     ]
    }
   ],
   "source": [
    "df_predicts_schema = duration_rdd \\\n",
    "    .mapPartitions(apply_model_in_batch_predict_timestamp) \\\n",
    "    .toDF() "
   ]
  },
  {
   "cell_type": "code",
   "execution_count": 133,
   "id": "15572c42-091b-4f6a-a082-3a37a3f5c738",
   "metadata": {},
   "outputs": [
    {
     "name": "stderr",
     "output_type": "stream",
     "text": [
      "[Stage 71:>                                                         (0 + 1) / 1]\r"
     ]
    },
    {
     "name": "stdout",
     "output_type": "stream",
     "text": [
      "+--------+--------------------+------------+------------+-------------+------------------+\n",
      "|VendorID|lpep_pickup_datetime|PULocationID|DOLocationID|trip_distance|predicted_duration|\n",
      "+--------+--------------------+------------+------------+-------------+------------------+\n",
      "|     2.0| 2020-01-23 13:10:15|          74|         130|        12.77|63.849999999999994|\n",
      "|     NaN| 2020-01-20 15:09:00|          67|          39|          8.0|              40.0|\n",
      "|     2.0| 2020-01-15 20:23:41|         260|         157|         1.27|              6.35|\n",
      "|     2.0| 2020-01-05 16:32:26|          82|          83|         1.25|              6.25|\n",
      "|     2.0| 2020-01-29 19:22:42|         166|          42|         1.84| 9.200000000000001|\n",
      "+--------+--------------------+------------+------------+-------------+------------------+\n",
      "only showing top 5 rows\n",
      "\n"
     ]
    },
    {
     "name": "stderr",
     "output_type": "stream",
     "text": [
      "                                                                                \r"
     ]
    }
   ],
   "source": [
    "df_predicts_schema.show(5)"
   ]
  },
  {
   "cell_type": "code",
   "execution_count": null,
   "id": "c3f5d1c5-9862-45a7-b64a-52b27abe97eb",
   "metadata": {},
   "outputs": [],
   "source": []
  }
 ],
 "metadata": {
  "kernelspec": {
   "display_name": "Python 3 (ipykernel)",
   "language": "python",
   "name": "python3"
  },
  "language_info": {
   "codemirror_mode": {
    "name": "ipython",
    "version": 3
   },
   "file_extension": ".py",
   "mimetype": "text/x-python",
   "name": "python",
   "nbconvert_exporter": "python",
   "pygments_lexer": "ipython3",
   "version": "3.10.13"
  }
 },
 "nbformat": 4,
 "nbformat_minor": 5
}
