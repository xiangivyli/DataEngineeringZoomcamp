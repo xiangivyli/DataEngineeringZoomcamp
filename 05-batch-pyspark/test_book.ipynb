{
 "cells": [
  {
   "cell_type": "code",
   "execution_count": 1,
   "id": "f9de3a0a",
   "metadata": {},
   "outputs": [
    {
     "name": "stderr",
     "output_type": "stream",
     "text": [
      "Setting default log level to \"WARN\".\n",
      "To adjust logging level use sc.setLogLevel(newLevel). For SparkR, use setLogLevel(newLevel).\n"
     ]
    },
    {
     "name": "stdout",
     "output_type": "stream",
     "text": [
      "24/03/05 22:03:45 WARN NativeCodeLoader: Unable to load native-hadoop library for your platform... using builtin-java classes where applicable\n"
     ]
    }
   ],
   "source": [
    "import pyspark\n",
    "from pyspark.sql import SparkSession\n",
    "\n",
    "spark = SparkSession.builder \\\n",
    "     .master(\"local[*]\") \\\n",
    "     .appName(\"test\") \\\n",
    "     .getOrCreate()"
   ]
  },
  {
   "cell_type": "code",
   "execution_count": 2,
   "id": "033c277c",
   "metadata": {},
   "outputs": [],
   "source": [
    "df1 = spark.range(2, 10000000, 2)"
   ]
  },
  {
   "cell_type": "code",
   "execution_count": 3,
   "id": "886cdfed",
   "metadata": {},
   "outputs": [
    {
     "data": {
      "text/plain": [
       "DataFrame[id: bigint]"
      ]
     },
     "execution_count": 3,
     "metadata": {},
     "output_type": "execute_result"
    }
   ],
   "source": [
    "df1"
   ]
  },
  {
   "cell_type": "code",
   "execution_count": 4,
   "id": "c95281fd",
   "metadata": {},
   "outputs": [
    {
     "name": "stdout",
     "output_type": "stream",
     "text": [
      "== Physical Plan ==\n",
      "*(1) Range (2, 10000000, step=2, splits=2)\n",
      "\n",
      "\n"
     ]
    }
   ],
   "source": [
    "df1.explain()"
   ]
  },
  {
   "cell_type": "code",
   "execution_count": 5,
   "id": "8bf31026",
   "metadata": {},
   "outputs": [],
   "source": [
    "step1 = df1.repartition(5)"
   ]
  },
  {
   "cell_type": "code",
   "execution_count": 6,
   "id": "e1c554b9",
   "metadata": {},
   "outputs": [
    {
     "data": {
      "text/plain": [
       "DataFrame[id: bigint]"
      ]
     },
     "execution_count": 6,
     "metadata": {},
     "output_type": "execute_result"
    }
   ],
   "source": [
    "step1"
   ]
  },
  {
   "cell_type": "code",
   "execution_count": 7,
   "id": "a9995632",
   "metadata": {},
   "outputs": [
    {
     "name": "stdout",
     "output_type": "stream",
     "text": [
      "== Physical Plan ==\n",
      "AdaptiveSparkPlan isFinalPlan=false\n",
      "+- Exchange RoundRobinPartitioning(5), REPARTITION_BY_NUM, [plan_id=10]\n",
      "   +- Range (2, 10000000, step=2, splits=2)\n",
      "\n",
      "\n"
     ]
    }
   ],
   "source": [
    "step1.explain()"
   ]
  },
  {
   "cell_type": "code",
   "execution_count": 18,
   "id": "c473c3b3",
   "metadata": {},
   "outputs": [
    {
     "name": "stderr",
     "output_type": "stream",
     "text": [
      "[Stage 20:=============================>                            (1 + 1) / 2]\r"
     ]
    },
    {
     "name": "stdout",
     "output_type": "stream",
     "text": [
      "+-------+\n",
      "|     id|\n",
      "+-------+\n",
      "|3826942|\n",
      "|1976646|\n",
      "|1057520|\n",
      "|3209254|\n",
      "| 484808|\n",
      "|2383826|\n",
      "|4697224|\n",
      "| 652718|\n",
      "|3298424|\n",
      "|4469482|\n",
      "+-------+\n",
      "only showing top 10 rows\n",
      "\n"
     ]
    },
    {
     "name": "stderr",
     "output_type": "stream",
     "text": [
      "\r",
      "                                                                                \r"
     ]
    }
   ],
   "source": [
    "step1.show(10)"
   ]
  },
  {
   "cell_type": "code",
   "execution_count": null,
   "id": "8630079a",
   "metadata": {},
   "outputs": [],
   "source": [
    "df2 = spark.range(2, 10000000, 4)"
   ]
  },
  {
   "cell_type": "code",
   "execution_count": 8,
   "id": "a9201290",
   "metadata": {},
   "outputs": [],
   "source": [
    "step12= df2.repartition(6)"
   ]
  },
  {
   "cell_type": "code",
   "execution_count": 9,
   "id": "b45d373b",
   "metadata": {},
   "outputs": [
    {
     "data": {
      "text/plain": [
       "DataFrame[id: bigint]"
      ]
     },
     "execution_count": 9,
     "metadata": {},
     "output_type": "execute_result"
    }
   ],
   "source": [
    "step2"
   ]
  },
  {
   "cell_type": "code",
   "execution_count": 10,
   "id": "dc98d498",
   "metadata": {},
   "outputs": [
    {
     "name": "stdout",
     "output_type": "stream",
     "text": [
      "== Physical Plan ==\n",
      "AdaptiveSparkPlan isFinalPlan=false\n",
      "+- Project [(id#0L * 5) AS id#8L]\n",
      "   +- Exchange RoundRobinPartitioning(5), REPARTITION_BY_NUM, [plan_id=21]\n",
      "      +- Range (2, 10000000, step=2, splits=2)\n",
      "\n",
      "\n"
     ]
    }
   ],
   "source": [
    "step2.explain()"
   ]
  },
  {
   "cell_type": "code",
   "execution_count": 11,
   "id": "b036b591",
   "metadata": {},
   "outputs": [],
   "source": [
    "step3 = step2.join(step12, [\"id\"])"
   ]
  },
  {
   "cell_type": "code",
   "execution_count": 13,
   "id": "fec2759e",
   "metadata": {},
   "outputs": [
    {
     "name": "stdout",
     "output_type": "stream",
     "text": [
      "== Physical Plan ==\n",
      "AdaptiveSparkPlan isFinalPlan=false\n",
      "+- Project [id#8L]\n",
      "   +- SortMergeJoin [id#8L], [id#2L], Inner\n",
      "      :- Sort [id#8L ASC NULLS FIRST], false, 0\n",
      "      :  +- Exchange hashpartitioning(id#8L, 200), ENSURE_REQUIREMENTS, [plan_id=53]\n",
      "      :     +- Project [(id#0L * 5) AS id#8L]\n",
      "      :        +- Exchange RoundRobinPartitioning(5), REPARTITION_BY_NUM, [plan_id=45]\n",
      "      :           +- Range (2, 10000000, step=2, splits=2)\n",
      "      +- Sort [id#2L ASC NULLS FIRST], false, 0\n",
      "         +- Exchange hashpartitioning(id#2L, 200), ENSURE_REQUIREMENTS, [plan_id=54]\n",
      "            +- Exchange RoundRobinPartitioning(6), REPARTITION_BY_NUM, [plan_id=48]\n",
      "               +- Range (2, 10000000, step=4, splits=2)\n",
      "\n",
      "\n"
     ]
    }
   ],
   "source": [
    "step3.explain()"
   ]
  },
  {
   "cell_type": "code",
   "execution_count": 14,
   "id": "a039eb2d",
   "metadata": {},
   "outputs": [],
   "source": [
    "step4 = step3.selectExpr(\"sum(id)\")"
   ]
  },
  {
   "cell_type": "code",
   "execution_count": 15,
   "id": "0721f5a2",
   "metadata": {},
   "outputs": [
    {
     "name": "stdout",
     "output_type": "stream",
     "text": [
      "== Physical Plan ==\n",
      "AdaptiveSparkPlan isFinalPlan=false\n",
      "+- HashAggregate(keys=[], functions=[sum(id#8L)])\n",
      "   +- Exchange SinglePartition, ENSURE_REQUIREMENTS, [plan_id=103]\n",
      "      +- HashAggregate(keys=[], functions=[partial_sum(id#8L)])\n",
      "         +- Project [id#8L]\n",
      "            +- SortMergeJoin [id#8L], [id#2L], Inner\n",
      "               :- Sort [id#8L ASC NULLS FIRST], false, 0\n",
      "               :  +- Exchange hashpartitioning(id#8L, 200), ENSURE_REQUIREMENTS, [plan_id=95]\n",
      "               :     +- Project [(id#0L * 5) AS id#8L]\n",
      "               :        +- Exchange RoundRobinPartitioning(5), REPARTITION_BY_NUM, [plan_id=85]\n",
      "               :           +- Range (2, 10000000, step=2, splits=2)\n",
      "               +- Sort [id#2L ASC NULLS FIRST], false, 0\n",
      "                  +- Exchange hashpartitioning(id#2L, 200), ENSURE_REQUIREMENTS, [plan_id=96]\n",
      "                     +- Exchange RoundRobinPartitioning(6), REPARTITION_BY_NUM, [plan_id=88]\n",
      "                        +- Range (2, 10000000, step=4, splits=2)\n",
      "\n",
      "\n"
     ]
    }
   ],
   "source": [
    "step4.explain()"
   ]
  },
  {
   "cell_type": "code",
   "execution_count": 16,
   "id": "ad5538fa",
   "metadata": {},
   "outputs": [
    {
     "name": "stderr",
     "output_type": "stream",
     "text": [
      "                                                                                \r"
     ]
    },
    {
     "data": {
      "text/plain": [
       "[Row(sum(id)=2500000000000)]"
      ]
     },
     "execution_count": 16,
     "metadata": {},
     "output_type": "execute_result"
    }
   ],
   "source": [
    "step4.collect()"
   ]
  },
  {
   "cell_type": "code",
   "execution_count": 19,
   "id": "fadf905f",
   "metadata": {},
   "outputs": [],
   "source": [
    "df = spark.range(2, 10000000, 2)"
   ]
  },
  {
   "cell_type": "code",
   "execution_count": 20,
   "id": "0df496e7",
   "metadata": {},
   "outputs": [
    {
     "data": {
      "text/plain": [
       "DataFrame[id: bigint]"
      ]
     },
     "execution_count": 20,
     "metadata": {},
     "output_type": "execute_result"
    }
   ],
   "source": [
    "df"
   ]
  },
  {
   "cell_type": "code",
   "execution_count": 21,
   "id": "930bd6d9",
   "metadata": {},
   "outputs": [
    {
     "name": "stdout",
     "output_type": "stream",
     "text": [
      "== Physical Plan ==\n",
      "*(1) Range (2, 10000000, step=2, splits=2)\n",
      "\n",
      "\n"
     ]
    }
   ],
   "source": [
    "df.explain()"
   ]
  },
  {
   "cell_type": "code",
   "execution_count": 22,
   "id": "a970a410",
   "metadata": {},
   "outputs": [],
   "source": [
    "transformation = df.repartition(6)"
   ]
  },
  {
   "cell_type": "code",
   "execution_count": 23,
   "id": "4cd9ae76",
   "metadata": {},
   "outputs": [
    {
     "name": "stdout",
     "output_type": "stream",
     "text": [
      "== Physical Plan ==\n",
      "AdaptiveSparkPlan isFinalPlan=false\n",
      "+- Exchange RoundRobinPartitioning(6), REPARTITION_BY_NUM, [plan_id=428]\n",
      "   +- Range (2, 10000000, step=2, splits=2)\n",
      "\n",
      "\n"
     ]
    }
   ],
   "source": [
    "transformation.explain()"
   ]
  },
  {
   "cell_type": "code",
   "execution_count": 24,
   "id": "0345a88d",
   "metadata": {},
   "outputs": [
    {
     "name": "stderr",
     "output_type": "stream",
     "text": [
      "\r",
      "[Stage 23:>                                                         (0 + 2) / 2]\r"
     ]
    },
    {
     "name": "stdout",
     "output_type": "stream",
     "text": [
      "+-------+\n",
      "|     id|\n",
      "+-------+\n",
      "|1783094|\n",
      "|4010386|\n",
      "|3673730|\n",
      "| 484808|\n",
      "|3830824|\n",
      "|3242912|\n",
      "|2477254|\n",
      "|3699514|\n",
      "| 429662|\n",
      "|1987292|\n",
      "| 916224|\n",
      "| 487040|\n",
      "|1470878|\n",
      "|2060572|\n",
      "|2148172|\n",
      "+-------+\n",
      "only showing top 15 rows\n",
      "\n"
     ]
    },
    {
     "name": "stderr",
     "output_type": "stream",
     "text": [
      "\r",
      "                                                                                \r"
     ]
    }
   ],
   "source": [
    "transformation.show(15)"
   ]
  },
  {
   "cell_type": "code",
   "execution_count": null,
   "id": "7858f707",
   "metadata": {},
   "outputs": [],
   "source": []
  }
 ],
 "metadata": {
  "kernelspec": {
   "display_name": "Python 3 (ipykernel)",
   "language": "python",
   "name": "python3"
  },
  "language_info": {
   "codemirror_mode": {
    "name": "ipython",
    "version": 3
   },
   "file_extension": ".py",
   "mimetype": "text/x-python",
   "name": "python",
   "nbconvert_exporter": "python",
   "pygments_lexer": "ipython3",
   "version": "3.11.5"
  }
 },
 "nbformat": 4,
 "nbformat_minor": 5
}
