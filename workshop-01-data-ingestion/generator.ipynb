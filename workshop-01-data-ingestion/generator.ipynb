{
 "cells": [
  {
   "cell_type": "markdown",
   "metadata": {},
   "source": [
    "## Regualr Returning Function"
   ]
  },
  {
   "cell_type": "markdown",
   "metadata": {},
   "source": [
    "When calling for `for now in search_twitter(\"cat pictures\"):` all the data must first be downloaded before the first record is returned"
   ]
  },
  {
   "cell_type": "code",
   "execution_count": null,
   "metadata": {},
   "outputs": [],
   "source": [
    "def search_twitter(query):\n",
    "\tdata = []\n",
    "\tfor row in paginated_get(query):\n",
    "\t\tdata.append(row)\n",
    "\treturn data\n",
    "\n",
    "# Collect all the cat picture data\n",
    "for row in search_twitter(\"cat pictures\"):\n",
    "  # Once collected, \n",
    "  # print row by row\n",
    "\tprint(row)"
   ]
  },
  {
   "cell_type": "markdown",
   "metadata": {},
   "source": [
    "### Generator"
   ]
  },
  {
   "cell_type": "markdown",
   "metadata": {},
   "source": [
    "we yield each row as we get the data, without collecting it into memory."
   ]
  },
  {
   "cell_type": "code",
   "execution_count": null,
   "metadata": {},
   "outputs": [],
   "source": [
    "def search_twitter(query):\n",
    "\tfor row in paginated_get(query):\n",
    "\t\tyield row\n",
    "\n",
    "# Get one row at a time\n",
    "for row in extract_data(\"cat pictures\"):\n",
    "\t# print the row\n",
    "\tprint(row)\n",
    "  # do something with the row such as cleaning it and writing it to a buffer\n",
    "\t# continue requesting and printing data"
   ]
  },
  {
   "cell_type": "markdown",
   "metadata": {},
   "source": [
    "### Example 1: Grabbing data from an api"
   ]
  },
  {
   "cell_type": "markdown",
   "metadata": {},
   "source": [
    "The api documentation is as follows:\n",
    "\n",
    " - There are a limited nr of records behind the api\n",
    " - The data can be requested page by page, each page containing 1000 records\n",
    " - If we request a page with no data, we will get a successful response with no data\n",
    " - so this means that when we get an empty page, we know there is no more data and we can stop requesting pages - this is a common way to paginate but not the only one - each api may be different.\n",
    " - details:\n",
    "    - method: get\n",
    "    - url: https://us-central1-dlthub-analytics.cloudfunctions.net/data_engineering_zoomcamp_api\n",
    "    - parameters: page integer. Represents the page number you are requesting. Defaults to 1."
   ]
  },
  {
   "cell_type": "code",
   "execution_count": null,
   "metadata": {},
   "outputs": [],
   "source": []
  }
 ],
 "metadata": {
  "kernelspec": {
   "display_name": "Python 3",
   "language": "python",
   "name": "python3"
  },
  "language_info": {
   "name": "python",
   "version": "3.12.1"
  }
 },
 "nbformat": 4,
 "nbformat_minor": 2
}
