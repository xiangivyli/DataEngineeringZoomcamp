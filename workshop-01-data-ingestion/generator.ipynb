{
 "cells": [
  {
   "cell_type": "markdown",
   "metadata": {},
   "source": [
    "## Regualr Returning Function"
   ]
  },
  {
   "cell_type": "markdown",
   "metadata": {},
   "source": [
    "When calling for `for now in search_twitter(\"cat pictures\"):` all the data must first be downloaded before the first record is returned"
   ]
  },
  {
   "cell_type": "code",
   "execution_count": null,
   "metadata": {},
   "outputs": [],
   "source": [
    "def search_twitter(query):\n",
    "\tdata = []\n",
    "\tfor row in paginated_get(query):\n",
    "\t\tdata.append(row)\n",
    "\treturn data\n",
    "\n",
    "# Collect all the cat picture data\n",
    "for row in search_twitter(\"cat pictures\"):\n",
    "  # Once collected, \n",
    "  # print row by row\n",
    "\tprint(row)"
   ]
  },
  {
   "cell_type": "markdown",
   "metadata": {},
   "source": [
    "### Generator"
   ]
  },
  {
   "cell_type": "markdown",
   "metadata": {},
   "source": [
    "we yield each row as we get the data, without collecting it into memory."
   ]
  },
  {
   "cell_type": "code",
   "execution_count": null,
   "metadata": {},
   "outputs": [],
   "source": [
    "def search_twitter(query):\n",
    "\tfor row in paginated_get(query):\n",
    "\t\tyield row\n",
    "\n",
    "# Get one row at a time\n",
    "for row in extract_data(\"cat pictures\"):\n",
    "\t# print the row\n",
    "\tprint(row)\n",
    "  # do something with the row such as cleaning it and writing it to a buffer\n",
    "\t# continue requesting and printing data"
   ]
  },
  {
   "cell_type": "markdown",
   "metadata": {},
   "source": [
    "### Example 1: Grabbing data from an api"
   ]
  },
  {
   "cell_type": "markdown",
   "metadata": {},
   "source": [
    "The api documentation is as follows:\n",
    "\n",
    " - There are a limited nr of records behind the api\n",
    " - The data can be requested page by page, each page containing 1000 records\n",
    " - If we request a page with no data, we will get a successful response with no data\n",
    " - so this means that when we get an empty page, we know there is no more data and we can stop requesting pages - this is a common way to paginate but not the only one - each api may be different.\n",
    " - details:\n",
    "    - method: get\n",
    "    - url: https://us-central1-dlthub-analytics.cloudfunctions.net/data_engineering_zoomcamp_api\n",
    "    - parameters: page integer. Represents the page number you are requesting. Defaults to 1."
   ]
  },
  {
   "cell_type": "code",
   "execution_count": null,
   "metadata": {},
   "outputs": [],
   "source": [
    "import requests\n",
    "\n",
    "\n",
    "\n",
    "BASE_API_URL = \"https://us-central1-dlthub-analytics.cloudfunctions.net/data_engineering_zoomcamp_api\"\n",
    "\n",
    "# I call this a paginated getter\n",
    "# as it's a function that gets data\n",
    "# and also paginates until there is no more data\n",
    "# by yielding pages, we \"microbatch\", which speeds up downstream processing\n",
    "\n",
    "def paginated_getter():\n",
    "    page_number = 1\n",
    "\n",
    "    while True:\n",
    "        # Set the query parameters\n",
    "        params = {'page': page_number}\n",
    "\n",
    "        # Make the GET request to the API\n",
    "        response = requests.get(BASE_API_URL, params=params)\n",
    "        response.raise_for_status()  # Raise an HTTPError for bad responses\n",
    "        page_json = response.json()\n",
    "        print(f'got page number {page_number} with {len(page_json)} records')\n",
    "\n",
    "        # if the page has no records, stop iterating\n",
    "        if page_json:\n",
    "            yield page_json\n",
    "            page_number += 1\n",
    "        else:\n",
    "            # No more data, break the loop\n",
    "            break\n",
    "\n",
    "\n",
    "if __name__ == '__main__':\n",
    "    # Use the generator to iterate over pages\n",
    "    for page_data in paginated_getter():\n",
    "        # Process each page as needed\n",
    "        print(page_data)\n"
   ]
  },
  {
   "cell_type": "markdown",
   "metadata": {},
   "source": [
    "### Example 3: Extracting file data with a generator"
   ]
  },
  {
   "cell_type": "code",
   "execution_count": null,
   "metadata": {},
   "outputs": [],
   "source": [
    "import requests\n",
    "import json\n",
    "\n",
    "url = \"https://storage.googleapis.com/dtc_zoomcamp_api/yellow_tripdata_2009-06.jsonl\"\n",
    "\n",
    "def stream_download_jsonl(url):\n",
    "    response = requests.get(url, stream=True)\n",
    "    response.raise_for_status()  # Raise an HTTPError for bad responses\n",
    "    for line in response.iter_lines():\n",
    "        if line:\n",
    "            yield json.loads(line)\n",
    "\n",
    "# time the download\n",
    "import time\n",
    "start = time.time()\n",
    "\n",
    "# Use the generator to iterate over rows with minimal memory usage\n",
    "row_counter = 0\n",
    "for row in stream_download_jsonl(url):\n",
    "    print(row)\n",
    "    row_counter += 1\n",
    "    if row_counter >= 5:\n",
    "        break\n",
    "\n",
    "# time the download\n",
    "end = time.time()\n",
    "print(end - start)"
   ]
  }
 ],
 "metadata": {
  "kernelspec": {
   "display_name": "Python 3",
   "language": "python",
   "name": "python3"
  },
  "language_info": {
   "name": "python",
   "version": "3.12.1"
  }
 },
 "nbformat": 4,
 "nbformat_minor": 2
}
